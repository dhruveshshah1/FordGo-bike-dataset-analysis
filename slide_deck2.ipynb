{
 "cells": [
  {
   "cell_type": "markdown",
   "metadata": {
    "slideshow": {
     "slide_type": "slide"
    }
   },
   "source": [
    "# **Analyzing Ford GoBike System Data**\n",
    "\n",
    "### Introduction\n",
    "\n",
    "\n",
    "Ford GoBike is a regional public bicycle-sharing system in California's San Francisco Bay Area. The Ford GoBike system currently has over 2,600 bicycles in 262 stations across San Francisco, East Bay and San Jose, starting operation as a Bay Area Bike Share in August 2013. The program formally launched on 28 June 2017 in a collaboration with Ford Motor Company as Ford GoBike.\n",
    "\n",
    "Like other bike-sharing systems, Ford GoBike consists of a fleet of specially designed, robust and durable bikes that are locked into a city-wide network of docking stations. The bikes can be unlocked from one station and sent back to any other station."
   ]
  },
  {
   "cell_type": "code",
   "execution_count": 1,
   "metadata": {
    "slideshow": {
     "slide_type": "skip"
    }
   },
   "outputs": [],
   "source": [
    "import numpy as np\n",
    "import pandas as pd\n",
    "import matplotlib.pyplot as plt\n",
    "import seaborn as sb\n",
    "\n",
    "\n",
    "%matplotlib inline"
   ]
  },
  {
   "cell_type": "code",
   "execution_count": 2,
   "metadata": {},
   "outputs": [
    {
     "data": {
      "text/html": [
       "<div>\n",
       "<style scoped>\n",
       "    .dataframe tbody tr th:only-of-type {\n",
       "        vertical-align: middle;\n",
       "    }\n",
       "\n",
       "    .dataframe tbody tr th {\n",
       "        vertical-align: top;\n",
       "    }\n",
       "\n",
       "    .dataframe thead th {\n",
       "        text-align: right;\n",
       "    }\n",
       "</style>\n",
       "<table border=\"1\" class=\"dataframe\">\n",
       "  <thead>\n",
       "    <tr style=\"text-align: right;\">\n",
       "      <th></th>\n",
       "      <th>duration_sec</th>\n",
       "      <th>start_time</th>\n",
       "      <th>end_time</th>\n",
       "      <th>start_station_id</th>\n",
       "      <th>start_station_name</th>\n",
       "      <th>start_station_latitude</th>\n",
       "      <th>start_station_longitude</th>\n",
       "      <th>end_station_id</th>\n",
       "      <th>end_station_name</th>\n",
       "      <th>end_station_latitude</th>\n",
       "      <th>end_station_longitude</th>\n",
       "      <th>bike_id</th>\n",
       "      <th>user_type</th>\n",
       "      <th>bike_share_for_all_trip</th>\n",
       "    </tr>\n",
       "  </thead>\n",
       "  <tbody>\n",
       "    <tr>\n",
       "      <th>0</th>\n",
       "      <td>50305</td>\n",
       "      <td>2019-04-30 22:33:55.1550</td>\n",
       "      <td>2019-05-01 12:32:20.4540</td>\n",
       "      <td>368.0</td>\n",
       "      <td>Myrtle St at Polk St</td>\n",
       "      <td>37.785434</td>\n",
       "      <td>-122.419622</td>\n",
       "      <td>324.0</td>\n",
       "      <td>Union Square (Powell St at Post St)</td>\n",
       "      <td>37.788300</td>\n",
       "      <td>-122.408531</td>\n",
       "      <td>2749</td>\n",
       "      <td>Subscriber</td>\n",
       "      <td>No</td>\n",
       "    </tr>\n",
       "    <tr>\n",
       "      <th>1</th>\n",
       "      <td>53725</td>\n",
       "      <td>2019-04-30 20:43:41.6320</td>\n",
       "      <td>2019-05-01 11:39:06.9170</td>\n",
       "      <td>246.0</td>\n",
       "      <td>Berkeley Civic Center</td>\n",
       "      <td>37.869060</td>\n",
       "      <td>-122.270556</td>\n",
       "      <td>241.0</td>\n",
       "      <td>Ashby BART Station</td>\n",
       "      <td>37.852477</td>\n",
       "      <td>-122.270213</td>\n",
       "      <td>2608</td>\n",
       "      <td>Customer</td>\n",
       "      <td>No</td>\n",
       "    </tr>\n",
       "    <tr>\n",
       "      <th>2</th>\n",
       "      <td>78072</td>\n",
       "      <td>2019-04-30 10:32:46.4890</td>\n",
       "      <td>2019-05-01 08:13:58.9750</td>\n",
       "      <td>64.0</td>\n",
       "      <td>5th St at Brannan St</td>\n",
       "      <td>37.776754</td>\n",
       "      <td>-122.399018</td>\n",
       "      <td>64.0</td>\n",
       "      <td>5th St at Brannan St</td>\n",
       "      <td>37.776754</td>\n",
       "      <td>-122.399018</td>\n",
       "      <td>258</td>\n",
       "      <td>Subscriber</td>\n",
       "      <td>No</td>\n",
       "    </tr>\n",
       "    <tr>\n",
       "      <th>3</th>\n",
       "      <td>78969</td>\n",
       "      <td>2019-04-30 10:00:51.5500</td>\n",
       "      <td>2019-05-01 07:57:01.2620</td>\n",
       "      <td>67.0</td>\n",
       "      <td>San Francisco Caltrain Station 2  (Townsend St...</td>\n",
       "      <td>37.776639</td>\n",
       "      <td>-122.395526</td>\n",
       "      <td>89.0</td>\n",
       "      <td>Division St at Potrero Ave</td>\n",
       "      <td>37.769218</td>\n",
       "      <td>-122.407646</td>\n",
       "      <td>1974</td>\n",
       "      <td>Subscriber</td>\n",
       "      <td>No</td>\n",
       "    </tr>\n",
       "    <tr>\n",
       "      <th>4</th>\n",
       "      <td>1128</td>\n",
       "      <td>2019-04-30 23:59:04.7390</td>\n",
       "      <td>2019-05-01 00:17:53.0910</td>\n",
       "      <td>124.0</td>\n",
       "      <td>19th St at Florida St</td>\n",
       "      <td>37.760447</td>\n",
       "      <td>-122.410807</td>\n",
       "      <td>5.0</td>\n",
       "      <td>Powell St BART Station (Market St at 5th St)</td>\n",
       "      <td>37.783899</td>\n",
       "      <td>-122.408445</td>\n",
       "      <td>877</td>\n",
       "      <td>Subscriber</td>\n",
       "      <td>No</td>\n",
       "    </tr>\n",
       "  </tbody>\n",
       "</table>\n",
       "</div>"
      ],
      "text/plain": [
       "   duration_sec                start_time                  end_time  \\\n",
       "0         50305  2019-04-30 22:33:55.1550  2019-05-01 12:32:20.4540   \n",
       "1         53725  2019-04-30 20:43:41.6320  2019-05-01 11:39:06.9170   \n",
       "2         78072  2019-04-30 10:32:46.4890  2019-05-01 08:13:58.9750   \n",
       "3         78969  2019-04-30 10:00:51.5500  2019-05-01 07:57:01.2620   \n",
       "4          1128  2019-04-30 23:59:04.7390  2019-05-01 00:17:53.0910   \n",
       "\n",
       "   start_station_id                                 start_station_name  \\\n",
       "0             368.0                               Myrtle St at Polk St   \n",
       "1             246.0                              Berkeley Civic Center   \n",
       "2              64.0                               5th St at Brannan St   \n",
       "3              67.0  San Francisco Caltrain Station 2  (Townsend St...   \n",
       "4             124.0                              19th St at Florida St   \n",
       "\n",
       "   start_station_latitude  start_station_longitude  end_station_id  \\\n",
       "0               37.785434              -122.419622           324.0   \n",
       "1               37.869060              -122.270556           241.0   \n",
       "2               37.776754              -122.399018            64.0   \n",
       "3               37.776639              -122.395526            89.0   \n",
       "4               37.760447              -122.410807             5.0   \n",
       "\n",
       "                               end_station_name  end_station_latitude  \\\n",
       "0           Union Square (Powell St at Post St)             37.788300   \n",
       "1                            Ashby BART Station             37.852477   \n",
       "2                          5th St at Brannan St             37.776754   \n",
       "3                    Division St at Potrero Ave             37.769218   \n",
       "4  Powell St BART Station (Market St at 5th St)             37.783899   \n",
       "\n",
       "   end_station_longitude  bike_id   user_type bike_share_for_all_trip  \n",
       "0            -122.408531     2749  Subscriber                      No  \n",
       "1            -122.270213     2608    Customer                      No  \n",
       "2            -122.399018      258  Subscriber                      No  \n",
       "3            -122.407646     1974  Subscriber                      No  \n",
       "4            -122.408445      877  Subscriber                      No  "
      ]
     },
     "execution_count": 2,
     "metadata": {},
     "output_type": "execute_result"
    }
   ],
   "source": [
    "df = pd.read_csv('201904-fordgobike-tripdata.csv')\n",
    "df.head()"
   ]
  },
  {
   "cell_type": "code",
   "execution_count": 3,
   "metadata": {},
   "outputs": [
    {
     "data": {
      "text/html": [
       "<div>\n",
       "<style scoped>\n",
       "    .dataframe tbody tr th:only-of-type {\n",
       "        vertical-align: middle;\n",
       "    }\n",
       "\n",
       "    .dataframe tbody tr th {\n",
       "        vertical-align: top;\n",
       "    }\n",
       "\n",
       "    .dataframe thead th {\n",
       "        text-align: right;\n",
       "    }\n",
       "</style>\n",
       "<table border=\"1\" class=\"dataframe\">\n",
       "  <thead>\n",
       "    <tr style=\"text-align: right;\">\n",
       "      <th></th>\n",
       "      <th>duration_sec</th>\n",
       "      <th>start_station_id</th>\n",
       "      <th>start_station_latitude</th>\n",
       "      <th>start_station_longitude</th>\n",
       "      <th>end_station_id</th>\n",
       "      <th>end_station_latitude</th>\n",
       "      <th>end_station_longitude</th>\n",
       "      <th>bike_id</th>\n",
       "    </tr>\n",
       "  </thead>\n",
       "  <tbody>\n",
       "    <tr>\n",
       "      <th>count</th>\n",
       "      <td>239111.000000</td>\n",
       "      <td>239047.000000</td>\n",
       "      <td>239111.000000</td>\n",
       "      <td>239111.000000</td>\n",
       "      <td>239047.000000</td>\n",
       "      <td>239111.000000</td>\n",
       "      <td>239111.000000</td>\n",
       "      <td>239111.000000</td>\n",
       "    </tr>\n",
       "    <tr>\n",
       "      <th>mean</th>\n",
       "      <td>802.671199</td>\n",
       "      <td>141.836538</td>\n",
       "      <td>37.769536</td>\n",
       "      <td>-122.352503</td>\n",
       "      <td>140.838099</td>\n",
       "      <td>37.766996</td>\n",
       "      <td>-122.343420</td>\n",
       "      <td>3666.956493</td>\n",
       "    </tr>\n",
       "    <tr>\n",
       "      <th>std</th>\n",
       "      <td>1990.006091</td>\n",
       "      <td>116.289776</td>\n",
       "      <td>0.127698</td>\n",
       "      <td>0.277088</td>\n",
       "      <td>116.386168</td>\n",
       "      <td>0.343083</td>\n",
       "      <td>1.068144</td>\n",
       "      <td>2180.717333</td>\n",
       "    </tr>\n",
       "    <tr>\n",
       "      <th>min</th>\n",
       "      <td>61.000000</td>\n",
       "      <td>3.000000</td>\n",
       "      <td>0.000000</td>\n",
       "      <td>-122.453704</td>\n",
       "      <td>3.000000</td>\n",
       "      <td>0.000000</td>\n",
       "      <td>-122.453704</td>\n",
       "      <td>11.000000</td>\n",
       "    </tr>\n",
       "    <tr>\n",
       "      <th>25%</th>\n",
       "      <td>349.000000</td>\n",
       "      <td>47.000000</td>\n",
       "      <td>37.770083</td>\n",
       "      <td>-122.413004</td>\n",
       "      <td>44.000000</td>\n",
       "      <td>37.770407</td>\n",
       "      <td>-122.411738</td>\n",
       "      <td>1720.000000</td>\n",
       "    </tr>\n",
       "    <tr>\n",
       "      <th>50%</th>\n",
       "      <td>558.000000</td>\n",
       "      <td>104.000000</td>\n",
       "      <td>37.780760</td>\n",
       "      <td>-122.398285</td>\n",
       "      <td>102.000000</td>\n",
       "      <td>37.780955</td>\n",
       "      <td>-122.397437</td>\n",
       "      <td>3471.000000</td>\n",
       "    </tr>\n",
       "    <tr>\n",
       "      <th>75%</th>\n",
       "      <td>876.000000</td>\n",
       "      <td>240.000000</td>\n",
       "      <td>37.797280</td>\n",
       "      <td>-122.291209</td>\n",
       "      <td>239.000000</td>\n",
       "      <td>37.797320</td>\n",
       "      <td>-122.291376</td>\n",
       "      <td>5749.000000</td>\n",
       "    </tr>\n",
       "    <tr>\n",
       "      <th>max</th>\n",
       "      <td>86114.000000</td>\n",
       "      <td>420.000000</td>\n",
       "      <td>37.880222</td>\n",
       "      <td>0.000000</td>\n",
       "      <td>420.000000</td>\n",
       "      <td>37.880222</td>\n",
       "      <td>0.000000</td>\n",
       "      <td>7108.000000</td>\n",
       "    </tr>\n",
       "  </tbody>\n",
       "</table>\n",
       "</div>"
      ],
      "text/plain": [
       "        duration_sec  start_station_id  start_station_latitude  \\\n",
       "count  239111.000000     239047.000000           239111.000000   \n",
       "mean      802.671199        141.836538               37.769536   \n",
       "std      1990.006091        116.289776                0.127698   \n",
       "min        61.000000          3.000000                0.000000   \n",
       "25%       349.000000         47.000000               37.770083   \n",
       "50%       558.000000        104.000000               37.780760   \n",
       "75%       876.000000        240.000000               37.797280   \n",
       "max     86114.000000        420.000000               37.880222   \n",
       "\n",
       "       start_station_longitude  end_station_id  end_station_latitude  \\\n",
       "count            239111.000000   239047.000000         239111.000000   \n",
       "mean               -122.352503      140.838099             37.766996   \n",
       "std                   0.277088      116.386168              0.343083   \n",
       "min                -122.453704        3.000000              0.000000   \n",
       "25%                -122.413004       44.000000             37.770407   \n",
       "50%                -122.398285      102.000000             37.780955   \n",
       "75%                -122.291209      239.000000             37.797320   \n",
       "max                   0.000000      420.000000             37.880222   \n",
       "\n",
       "       end_station_longitude        bike_id  \n",
       "count          239111.000000  239111.000000  \n",
       "mean             -122.343420    3666.956493  \n",
       "std                 1.068144    2180.717333  \n",
       "min              -122.453704      11.000000  \n",
       "25%              -122.411738    1720.000000  \n",
       "50%              -122.397437    3471.000000  \n",
       "75%              -122.291376    5749.000000  \n",
       "max                 0.000000    7108.000000  "
      ]
     },
     "execution_count": 3,
     "metadata": {},
     "output_type": "execute_result"
    }
   ],
   "source": [
    "df.describe()"
   ]
  },
  {
   "cell_type": "code",
   "execution_count": 4,
   "metadata": {},
   "outputs": [
    {
     "name": "stdout",
     "output_type": "stream",
     "text": [
      "<class 'pandas.core.frame.DataFrame'>\n",
      "RangeIndex: 239111 entries, 0 to 239110\n",
      "Data columns (total 14 columns):\n",
      " #   Column                   Non-Null Count   Dtype  \n",
      "---  ------                   --------------   -----  \n",
      " 0   duration_sec             239111 non-null  int64  \n",
      " 1   start_time               239111 non-null  object \n",
      " 2   end_time                 239111 non-null  object \n",
      " 3   start_station_id         239047 non-null  float64\n",
      " 4   start_station_name       239047 non-null  object \n",
      " 5   start_station_latitude   239111 non-null  float64\n",
      " 6   start_station_longitude  239111 non-null  float64\n",
      " 7   end_station_id           239047 non-null  float64\n",
      " 8   end_station_name         239047 non-null  object \n",
      " 9   end_station_latitude     239111 non-null  float64\n",
      " 10  end_station_longitude    239111 non-null  float64\n",
      " 11  bike_id                  239111 non-null  int64  \n",
      " 12  user_type                239111 non-null  object \n",
      " 13  bike_share_for_all_trip  239111 non-null  object \n",
      "dtypes: float64(6), int64(2), object(6)\n",
      "memory usage: 25.5+ MB\n"
     ]
    }
   ],
   "source": [
    "df.info()"
   ]
  },
  {
   "cell_type": "code",
   "execution_count": 5,
   "metadata": {},
   "outputs": [
    {
     "data": {
      "text/plain": [
       "duration_sec                0\n",
       "start_time                  0\n",
       "end_time                    0\n",
       "start_station_id           64\n",
       "start_station_name         64\n",
       "start_station_latitude      0\n",
       "start_station_longitude     0\n",
       "end_station_id             64\n",
       "end_station_name           64\n",
       "end_station_latitude        0\n",
       "end_station_longitude       0\n",
       "bike_id                     0\n",
       "user_type                   0\n",
       "bike_share_for_all_trip     0\n",
       "dtype: int64"
      ]
     },
     "execution_count": 5,
     "metadata": {},
     "output_type": "execute_result"
    }
   ],
   "source": [
    "df.isnull().sum()"
   ]
  },
  {
   "cell_type": "code",
   "execution_count": 6,
   "metadata": {},
   "outputs": [
    {
     "data": {
      "text/plain": [
       "Subscriber    203197\n",
       "Customer       35914\n",
       "Name: user_type, dtype: int64"
      ]
     },
     "execution_count": 6,
     "metadata": {},
     "output_type": "execute_result"
    }
   ],
   "source": [
    "df['user_type'].value_counts()"
   ]
  },
  {
   "cell_type": "code",
   "execution_count": 7,
   "metadata": {},
   "outputs": [
    {
     "name": "stdout",
     "output_type": "stream",
     "text": [
      "<class 'pandas.core.frame.DataFrame'>\n",
      "Int64Index: 239047 entries, 0 to 239110\n",
      "Data columns (total 14 columns):\n",
      " #   Column                   Non-Null Count   Dtype  \n",
      "---  ------                   --------------   -----  \n",
      " 0   duration_sec             239047 non-null  int64  \n",
      " 1   start_time               239047 non-null  object \n",
      " 2   end_time                 239047 non-null  object \n",
      " 3   start_station_id         239047 non-null  float64\n",
      " 4   start_station_name       239047 non-null  object \n",
      " 5   start_station_latitude   239047 non-null  float64\n",
      " 6   start_station_longitude  239047 non-null  float64\n",
      " 7   end_station_id           239047 non-null  float64\n",
      " 8   end_station_name         239047 non-null  object \n",
      " 9   end_station_latitude     239047 non-null  float64\n",
      " 10  end_station_longitude    239047 non-null  float64\n",
      " 11  bike_id                  239047 non-null  int64  \n",
      " 12  user_type                239047 non-null  object \n",
      " 13  bike_share_for_all_trip  239047 non-null  object \n",
      "dtypes: float64(6), int64(2), object(6)\n",
      "memory usage: 27.4+ MB\n"
     ]
    }
   ],
   "source": [
    "# Removing the rows with no station id\n",
    "df_clean = df[df['start_station_id'].isnull() == False]\n",
    "df_clean.info()"
   ]
  },
  {
   "cell_type": "code",
   "execution_count": 8,
   "metadata": {},
   "outputs": [
    {
     "data": {
      "text/plain": [
       "0"
      ]
     },
     "execution_count": 8,
     "metadata": {},
     "output_type": "execute_result"
    }
   ],
   "source": [
    "df_clean.duplicated().sum()"
   ]
  },
  {
   "cell_type": "code",
   "execution_count": 9,
   "metadata": {},
   "outputs": [
    {
     "name": "stderr",
     "output_type": "stream",
     "text": [
      "C:\\Users\\Dhruvesh\\anaconda3\\lib\\site-packages\\pandas\\core\\generic.py:5303: SettingWithCopyWarning: \n",
      "A value is trying to be set on a copy of a slice from a DataFrame.\n",
      "Try using .loc[row_indexer,col_indexer] = value instead\n",
      "\n",
      "See the caveats in the documentation: https://pandas.pydata.org/pandas-docs/stable/user_guide/indexing.html#returning-a-view-versus-a-copy\n",
      "  self[name] = value\n"
     ]
    }
   ],
   "source": [
    "# Changing start_time and end_time to datetime format\n",
    "df_clean.start_time = pd.to_datetime(df_clean.start_time)\n",
    "df_clean.end_time = pd.to_datetime(df_clean.end_time)"
   ]
  },
  {
   "cell_type": "code",
   "execution_count": 10,
   "metadata": {},
   "outputs": [
    {
     "name": "stderr",
     "output_type": "stream",
     "text": [
      "C:\\Users\\Dhruvesh\\anaconda3\\lib\\site-packages\\ipykernel_launcher.py:2: SettingWithCopyWarning: \n",
      "A value is trying to be set on a copy of a slice from a DataFrame.\n",
      "Try using .loc[row_indexer,col_indexer] = value instead\n",
      "\n",
      "See the caveats in the documentation: https://pandas.pydata.org/pandas-docs/stable/user_guide/indexing.html#returning-a-view-versus-a-copy\n",
      "  \n",
      "C:\\Users\\Dhruvesh\\anaconda3\\lib\\site-packages\\ipykernel_launcher.py:3: SettingWithCopyWarning: \n",
      "A value is trying to be set on a copy of a slice from a DataFrame.\n",
      "Try using .loc[row_indexer,col_indexer] = value instead\n",
      "\n",
      "See the caveats in the documentation: https://pandas.pydata.org/pandas-docs/stable/user_guide/indexing.html#returning-a-view-versus-a-copy\n",
      "  This is separate from the ipykernel package so we can avoid doing imports until\n"
     ]
    }
   ],
   "source": [
    "# Extract dayofweek, hours information from the start_time\n",
    "df_clean['start_time_dayofweek']= df_clean['start_time'].dt.strftime('%a')\n",
    "df_clean['start_time_hour']= df_clean['start_time'].dt.hour"
   ]
  },
  {
   "cell_type": "code",
   "execution_count": 11,
   "metadata": {},
   "outputs": [
    {
     "data": {
      "text/plain": [
       "Tue    43598\n",
       "Mon    40906\n",
       "Wed    38850\n",
       "Thu    38845\n",
       "Fri    35450\n",
       "Sat    23056\n",
       "Sun    18342\n",
       "Name: start_time_dayofweek, dtype: int64"
      ]
     },
     "execution_count": 11,
     "metadata": {},
     "output_type": "execute_result"
    }
   ],
   "source": [
    "df_clean['start_time_dayofweek'].value_counts()"
   ]
  },
  {
   "cell_type": "code",
   "execution_count": 12,
   "metadata": {},
   "outputs": [
    {
     "name": "stderr",
     "output_type": "stream",
     "text": [
      "C:\\Users\\Dhruvesh\\anaconda3\\lib\\site-packages\\ipykernel_launcher.py:4: SettingWithCopyWarning: \n",
      "A value is trying to be set on a copy of a slice from a DataFrame.\n",
      "Try using .loc[row_indexer,col_indexer] = value instead\n",
      "\n",
      "See the caveats in the documentation: https://pandas.pydata.org/pandas-docs/stable/user_guide/indexing.html#returning-a-view-versus-a-copy\n",
      "  after removing the cwd from sys.path.\n"
     ]
    }
   ],
   "source": [
    "# Converting the start_time_dayofweek to ordinal variables.\n",
    "weekdays = ['Mon','Tue','Wed','Thu','Fri', 'Sat', 'Sun']\n",
    "ordered_weekdays = pd.api.types.CategoricalDtype(ordered = True, categories = weekdays)\n",
    "df_clean['start_time_dayofweek'] = df_clean['start_time_dayofweek'].astype(ordered_weekdays)"
   ]
  },
  {
   "cell_type": "code",
   "execution_count": 13,
   "metadata": {},
   "outputs": [
    {
     "name": "stdout",
     "output_type": "stream",
     "text": [
      "<class 'pandas.core.frame.DataFrame'>\n",
      "Int64Index: 239047 entries, 0 to 239110\n",
      "Data columns (total 16 columns):\n",
      " #   Column                   Non-Null Count   Dtype         \n",
      "---  ------                   --------------   -----         \n",
      " 0   duration_sec             239047 non-null  int64         \n",
      " 1   start_time               239047 non-null  datetime64[ns]\n",
      " 2   end_time                 239047 non-null  datetime64[ns]\n",
      " 3   start_station_id         239047 non-null  float64       \n",
      " 4   start_station_name       239047 non-null  object        \n",
      " 5   start_station_latitude   239047 non-null  float64       \n",
      " 6   start_station_longitude  239047 non-null  float64       \n",
      " 7   end_station_id           239047 non-null  float64       \n",
      " 8   end_station_name         239047 non-null  object        \n",
      " 9   end_station_latitude     239047 non-null  float64       \n",
      " 10  end_station_longitude    239047 non-null  float64       \n",
      " 11  bike_id                  239047 non-null  int64         \n",
      " 12  user_type                239047 non-null  object        \n",
      " 13  bike_share_for_all_trip  239047 non-null  object        \n",
      " 14  start_time_dayofweek     239047 non-null  category      \n",
      " 15  start_time_hour          239047 non-null  int64         \n",
      "dtypes: category(1), datetime64[ns](2), float64(6), int64(3), object(4)\n",
      "memory usage: 29.4+ MB\n"
     ]
    }
   ],
   "source": [
    "df_clean.info()"
   ]
  },
  {
   "cell_type": "markdown",
   "metadata": {
    "slideshow": {
     "slide_type": "slide"
    }
   },
   "source": [
    "**What is the structure of your dataset?**\n",
    "\n",
    "The dataset has 20000+ bike rides that happen in 2019 in the San Francisco Bay Area. The dataset contained features about:\n",
    "\n",
    "trip duration: how long the trip took in seconds\n",
    "\n",
    "\n",
    "start time/end time: start and end date/time for the bike rides.\n",
    "\n",
    "\n",
    "stations: start and end station, name along with their location (latitude/longitude)\n",
    "\n",
    "\n",
    "rented bikes: bike id\n",
    "\n",
    "**The dataset was assessed and cleaned with features that may be helpful to perform  analysis:**\n",
    "\n",
    "rental time: hour of the day, weekday\n",
    "\n",
    "**What is/are the main feature(s) of interest in your dataset?**\n",
    "\n",
    "I am interested in investigate duration of biking time.\n",
    "\n",
    "**What features in the dataset do you think will help support your investigation into your feature(s) of interest?**\n",
    "\n",
    "I think the following features may help to support my investigation into the feature (duration) I am interested.\n",
    "\n",
    "start_time - extraction of  day_of_week, hours for further investigation.\n",
    "user_type"
   ]
  },
  {
   "cell_type": "markdown",
   "metadata": {
    "slideshow": {
     "slide_type": "slide"
    }
   },
   "source": [
    "# Univariate exploration"
   ]
  },
  {
   "cell_type": "markdown",
   "metadata": {
    "slideshow": {
     "slide_type": "subslide"
    }
   },
   "source": [
    "## 1. Histogram for minutes"
   ]
  },
  {
   "cell_type": "code",
   "execution_count": 14,
   "metadata": {
    "slideshow": {
     "slide_type": "slide"
    }
   },
   "outputs": [
    {
     "name": "stderr",
     "output_type": "stream",
     "text": [
      "C:\\Users\\Dhruvesh\\anaconda3\\lib\\site-packages\\ipykernel_launcher.py:2: SettingWithCopyWarning: \n",
      "A value is trying to be set on a copy of a slice from a DataFrame.\n",
      "Try using .loc[row_indexer,col_indexer] = value instead\n",
      "\n",
      "See the caveats in the documentation: https://pandas.pydata.org/pandas-docs/stable/user_guide/indexing.html#returning-a-view-versus-a-copy\n",
      "  \n"
     ]
    },
    {
     "name": "stdout",
     "output_type": "stream",
     "text": [
      "<class 'pandas.core.frame.DataFrame'>\n",
      "Int64Index: 239047 entries, 0 to 239110\n",
      "Data columns (total 17 columns):\n",
      " #   Column                   Non-Null Count   Dtype         \n",
      "---  ------                   --------------   -----         \n",
      " 0   duration_sec             239047 non-null  int64         \n",
      " 1   start_time               239047 non-null  datetime64[ns]\n",
      " 2   end_time                 239047 non-null  datetime64[ns]\n",
      " 3   start_station_id         239047 non-null  float64       \n",
      " 4   start_station_name       239047 non-null  object        \n",
      " 5   start_station_latitude   239047 non-null  float64       \n",
      " 6   start_station_longitude  239047 non-null  float64       \n",
      " 7   end_station_id           239047 non-null  float64       \n",
      " 8   end_station_name         239047 non-null  object        \n",
      " 9   end_station_latitude     239047 non-null  float64       \n",
      " 10  end_station_longitude    239047 non-null  float64       \n",
      " 11  bike_id                  239047 non-null  int64         \n",
      " 12  user_type                239047 non-null  object        \n",
      " 13  bike_share_for_all_trip  239047 non-null  object        \n",
      " 14  start_time_dayofweek     239047 non-null  category      \n",
      " 15  start_time_hour          239047 non-null  int64         \n",
      " 16  duration_min             239047 non-null  float64       \n",
      "dtypes: category(1), datetime64[ns](2), float64(7), int64(3), object(4)\n",
      "memory usage: 31.2+ MB\n"
     ]
    }
   ],
   "source": [
    "#converting secs to minutes \n",
    "df_clean['duration_min'] = df_clean['duration_sec']/60\n",
    "df_clean.info()"
   ]
  },
  {
   "cell_type": "code",
   "execution_count": 15,
   "metadata": {
    "slideshow": {
     "slide_type": "subslide"
    }
   },
   "outputs": [
    {
     "data": {
      "text/html": [
       "<div>\n",
       "<style scoped>\n",
       "    .dataframe tbody tr th:only-of-type {\n",
       "        vertical-align: middle;\n",
       "    }\n",
       "\n",
       "    .dataframe tbody tr th {\n",
       "        vertical-align: top;\n",
       "    }\n",
       "\n",
       "    .dataframe thead th {\n",
       "        text-align: right;\n",
       "    }\n",
       "</style>\n",
       "<table border=\"1\" class=\"dataframe\">\n",
       "  <thead>\n",
       "    <tr style=\"text-align: right;\">\n",
       "      <th></th>\n",
       "      <th>duration_sec</th>\n",
       "      <th>start_time</th>\n",
       "      <th>end_time</th>\n",
       "      <th>start_station_id</th>\n",
       "      <th>start_station_name</th>\n",
       "      <th>start_station_latitude</th>\n",
       "      <th>start_station_longitude</th>\n",
       "      <th>end_station_id</th>\n",
       "      <th>end_station_name</th>\n",
       "      <th>end_station_latitude</th>\n",
       "      <th>end_station_longitude</th>\n",
       "      <th>bike_id</th>\n",
       "      <th>user_type</th>\n",
       "      <th>bike_share_for_all_trip</th>\n",
       "      <th>start_time_dayofweek</th>\n",
       "      <th>start_time_hour</th>\n",
       "      <th>duration_min</th>\n",
       "    </tr>\n",
       "  </thead>\n",
       "  <tbody>\n",
       "    <tr>\n",
       "      <th>0</th>\n",
       "      <td>50305</td>\n",
       "      <td>2019-04-30 22:33:55.155</td>\n",
       "      <td>2019-05-01 12:32:20.454</td>\n",
       "      <td>368.0</td>\n",
       "      <td>Myrtle St at Polk St</td>\n",
       "      <td>37.785434</td>\n",
       "      <td>-122.419622</td>\n",
       "      <td>324.0</td>\n",
       "      <td>Union Square (Powell St at Post St)</td>\n",
       "      <td>37.788300</td>\n",
       "      <td>-122.408531</td>\n",
       "      <td>2749</td>\n",
       "      <td>Subscriber</td>\n",
       "      <td>No</td>\n",
       "      <td>Tue</td>\n",
       "      <td>22</td>\n",
       "      <td>838.416667</td>\n",
       "    </tr>\n",
       "    <tr>\n",
       "      <th>1</th>\n",
       "      <td>53725</td>\n",
       "      <td>2019-04-30 20:43:41.632</td>\n",
       "      <td>2019-05-01 11:39:06.917</td>\n",
       "      <td>246.0</td>\n",
       "      <td>Berkeley Civic Center</td>\n",
       "      <td>37.869060</td>\n",
       "      <td>-122.270556</td>\n",
       "      <td>241.0</td>\n",
       "      <td>Ashby BART Station</td>\n",
       "      <td>37.852477</td>\n",
       "      <td>-122.270213</td>\n",
       "      <td>2608</td>\n",
       "      <td>Customer</td>\n",
       "      <td>No</td>\n",
       "      <td>Tue</td>\n",
       "      <td>20</td>\n",
       "      <td>895.416667</td>\n",
       "    </tr>\n",
       "    <tr>\n",
       "      <th>2</th>\n",
       "      <td>78072</td>\n",
       "      <td>2019-04-30 10:32:46.489</td>\n",
       "      <td>2019-05-01 08:13:58.975</td>\n",
       "      <td>64.0</td>\n",
       "      <td>5th St at Brannan St</td>\n",
       "      <td>37.776754</td>\n",
       "      <td>-122.399018</td>\n",
       "      <td>64.0</td>\n",
       "      <td>5th St at Brannan St</td>\n",
       "      <td>37.776754</td>\n",
       "      <td>-122.399018</td>\n",
       "      <td>258</td>\n",
       "      <td>Subscriber</td>\n",
       "      <td>No</td>\n",
       "      <td>Tue</td>\n",
       "      <td>10</td>\n",
       "      <td>1301.200000</td>\n",
       "    </tr>\n",
       "    <tr>\n",
       "      <th>3</th>\n",
       "      <td>78969</td>\n",
       "      <td>2019-04-30 10:00:51.550</td>\n",
       "      <td>2019-05-01 07:57:01.262</td>\n",
       "      <td>67.0</td>\n",
       "      <td>San Francisco Caltrain Station 2  (Townsend St...</td>\n",
       "      <td>37.776639</td>\n",
       "      <td>-122.395526</td>\n",
       "      <td>89.0</td>\n",
       "      <td>Division St at Potrero Ave</td>\n",
       "      <td>37.769218</td>\n",
       "      <td>-122.407646</td>\n",
       "      <td>1974</td>\n",
       "      <td>Subscriber</td>\n",
       "      <td>No</td>\n",
       "      <td>Tue</td>\n",
       "      <td>10</td>\n",
       "      <td>1316.150000</td>\n",
       "    </tr>\n",
       "    <tr>\n",
       "      <th>4</th>\n",
       "      <td>1128</td>\n",
       "      <td>2019-04-30 23:59:04.739</td>\n",
       "      <td>2019-05-01 00:17:53.091</td>\n",
       "      <td>124.0</td>\n",
       "      <td>19th St at Florida St</td>\n",
       "      <td>37.760447</td>\n",
       "      <td>-122.410807</td>\n",
       "      <td>5.0</td>\n",
       "      <td>Powell St BART Station (Market St at 5th St)</td>\n",
       "      <td>37.783899</td>\n",
       "      <td>-122.408445</td>\n",
       "      <td>877</td>\n",
       "      <td>Subscriber</td>\n",
       "      <td>No</td>\n",
       "      <td>Tue</td>\n",
       "      <td>23</td>\n",
       "      <td>18.800000</td>\n",
       "    </tr>\n",
       "  </tbody>\n",
       "</table>\n",
       "</div>"
      ],
      "text/plain": [
       "   duration_sec              start_time                end_time  \\\n",
       "0         50305 2019-04-30 22:33:55.155 2019-05-01 12:32:20.454   \n",
       "1         53725 2019-04-30 20:43:41.632 2019-05-01 11:39:06.917   \n",
       "2         78072 2019-04-30 10:32:46.489 2019-05-01 08:13:58.975   \n",
       "3         78969 2019-04-30 10:00:51.550 2019-05-01 07:57:01.262   \n",
       "4          1128 2019-04-30 23:59:04.739 2019-05-01 00:17:53.091   \n",
       "\n",
       "   start_station_id                                 start_station_name  \\\n",
       "0             368.0                               Myrtle St at Polk St   \n",
       "1             246.0                              Berkeley Civic Center   \n",
       "2              64.0                               5th St at Brannan St   \n",
       "3              67.0  San Francisco Caltrain Station 2  (Townsend St...   \n",
       "4             124.0                              19th St at Florida St   \n",
       "\n",
       "   start_station_latitude  start_station_longitude  end_station_id  \\\n",
       "0               37.785434              -122.419622           324.0   \n",
       "1               37.869060              -122.270556           241.0   \n",
       "2               37.776754              -122.399018            64.0   \n",
       "3               37.776639              -122.395526            89.0   \n",
       "4               37.760447              -122.410807             5.0   \n",
       "\n",
       "                               end_station_name  end_station_latitude  \\\n",
       "0           Union Square (Powell St at Post St)             37.788300   \n",
       "1                            Ashby BART Station             37.852477   \n",
       "2                          5th St at Brannan St             37.776754   \n",
       "3                    Division St at Potrero Ave             37.769218   \n",
       "4  Powell St BART Station (Market St at 5th St)             37.783899   \n",
       "\n",
       "   end_station_longitude  bike_id   user_type bike_share_for_all_trip  \\\n",
       "0            -122.408531     2749  Subscriber                      No   \n",
       "1            -122.270213     2608    Customer                      No   \n",
       "2            -122.399018      258  Subscriber                      No   \n",
       "3            -122.407646     1974  Subscriber                      No   \n",
       "4            -122.408445      877  Subscriber                      No   \n",
       "\n",
       "  start_time_dayofweek  start_time_hour  duration_min  \n",
       "0                  Tue               22    838.416667  \n",
       "1                  Tue               20    895.416667  \n",
       "2                  Tue               10   1301.200000  \n",
       "3                  Tue               10   1316.150000  \n",
       "4                  Tue               23     18.800000  "
      ]
     },
     "execution_count": 15,
     "metadata": {},
     "output_type": "execute_result"
    }
   ],
   "source": [
    "df_clean.head()"
   ]
  },
  {
   "cell_type": "code",
   "execution_count": 16,
   "metadata": {
    "slideshow": {
     "slide_type": "slide"
    }
   },
   "outputs": [
    {
     "data": {
      "text/plain": [
       "(0, 100)"
      ]
     },
     "execution_count": 16,
     "metadata": {},
     "output_type": "execute_result"
    },
    {
     "data": {
      "image/png": "[encoded data removed]",
      "text/plain": [
       "<Figure size 576x360 with 1 Axes>"
      ]
     },
     "metadata": {
      "needs_background": "light"
     },
     "output_type": "display_data"
    }
   ],
   "source": [
    "#Histogram for duration of minutes\n",
    "binsize = 10\n",
    "bins = np.arange(0, df_clean['duration_min'].max()+binsize, binsize)\n",
    "\n",
    "plt.figure(figsize=[8, 5])\n",
    "\n",
    "plt.hist(data = df_clean, x = 'duration_min', bins=bins);\n",
    "\n",
    "plt.xlim(0,100)"
   ]
  },
  {
   "cell_type": "markdown",
   "metadata": {
    "slideshow": {
     "slide_type": "subslide"
    }
   },
   "source": [
    "Most of the data is below 50\n"
   ]
  },
  {
   "cell_type": "code",
   "execution_count": 17,
   "metadata": {},
   "outputs": [
    {
     "data": {
      "text/plain": [
       "count    239047.000000\n",
       "mean         13.374141\n",
       "std          33.163460\n",
       "min           1.016667\n",
       "25%           5.816667\n",
       "50%           9.300000\n",
       "75%          14.600000\n",
       "max        1435.233333\n",
       "Name: duration_min, dtype: float64"
      ]
     },
     "execution_count": 17,
     "metadata": {},
     "output_type": "execute_result"
    }
   ],
   "source": [
    "\n",
    "df_clean['duration_min'].describe()"
   ]
  },
  {
   "cell_type": "markdown",
   "metadata": {},
   "source": [
    "Calculating IQR\n",
    "\n",
    "IQR = Q3 - Q1 = 14.60 - 5.81\n",
    "\n",
    "\n",
    "Upper Wisker Bound = (1.5 * IQR) + Q3 = 13.18 + 14.6 = 27.78"
   ]
  },
  {
   "cell_type": "code",
   "execution_count": 18,
   "metadata": {
    "slideshow": {
     "slide_type": "slide"
    }
   },
   "outputs": [
    {
     "data": {
      "image/png": "[encoded data removed]",
      "text/plain": [
       "<Figure size 576x360 with 1 Axes>"
      ]
     },
     "metadata": {
      "needs_background": "light"
     },
     "output_type": "display_data"
    }
   ],
   "source": [
    "# there's a long tail in the distribution, so let's put it on a log scale instead\n",
    "log_binsize = 0.025\n",
    "bins = 10 ** np.arange(0, np.log10(df_clean['duration_min'].max())+log_binsize, log_binsize)\n",
    "\n",
    "plt.figure(figsize=[8, 5]);\n",
    "plt.hist(data = df_clean, x = 'duration_min', bins = bins);\n",
    "plt.xscale('log');\n",
    "xtick=[1, 2, 5, 10, 20, 50, 100, 200, 500, 1000, 2000]\n",
    "plt.xticks(xtick,xtick);\n",
    "plt.xlabel('Duration (min)');"
   ]
  },
  {
   "cell_type": "markdown",
   "metadata": {
    "slideshow": {
     "slide_type": "subslide"
    }
   },
   "source": [
    "It now looks like a normal distribution"
   ]
  },
  {
   "cell_type": "code",
   "execution_count": 19,
   "metadata": {
    "slideshow": {
     "slide_type": "subslide"
    }
   },
   "outputs": [
    {
     "name": "stdout",
     "output_type": "stream",
     "text": [
      "<class 'pandas.core.frame.DataFrame'>\n",
      "Int64Index: 237649 entries, 4 to 239110\n",
      "Data columns (total 17 columns):\n",
      " #   Column                   Non-Null Count   Dtype         \n",
      "---  ------                   --------------   -----         \n",
      " 0   duration_sec             237649 non-null  int64         \n",
      " 1   start_time               237649 non-null  datetime64[ns]\n",
      " 2   end_time                 237649 non-null  datetime64[ns]\n",
      " 3   start_station_id         237649 non-null  float64       \n",
      " 4   start_station_name       237649 non-null  object        \n",
      " 5   start_station_latitude   237649 non-null  float64       \n",
      " 6   start_station_longitude  237649 non-null  float64       \n",
      " 7   end_station_id           237649 non-null  float64       \n",
      " 8   end_station_name         237649 non-null  object        \n",
      " 9   end_station_latitude     237649 non-null  float64       \n",
      " 10  end_station_longitude    237649 non-null  float64       \n",
      " 11  bike_id                  237649 non-null  int64         \n",
      " 12  user_type                237649 non-null  object        \n",
      " 13  bike_share_for_all_trip  237649 non-null  object        \n",
      " 14  start_time_dayofweek     237649 non-null  category      \n",
      " 15  start_time_hour          237649 non-null  int64         \n",
      " 16  duration_min             237649 non-null  float64       \n",
      "dtypes: category(1), datetime64[ns](2), float64(7), int64(3), object(4)\n",
      "memory usage: 31.1+ MB\n"
     ]
    }
   ],
   "source": [
    "#Cleaning with duration_min < 100 min\n",
    "df_clean = df_clean[df_clean['duration_min'] <= 100]\n",
    "df_clean.info()"
   ]
  },
  {
   "cell_type": "markdown",
   "metadata": {
    "slideshow": {
     "slide_type": "slide"
    }
   },
   "source": [
    "## 2.Countplot for Start_time_hour"
   ]
  },
  {
   "cell_type": "code",
   "execution_count": 20,
   "metadata": {
    "slideshow": {
     "slide_type": "slide"
    }
   },
   "outputs": [
    {
     "data": {
      "image/png": "[encoded data removed]",
      "text/plain": [
       "<Figure size 432x288 with 1 Axes>"
      ]
     },
     "metadata": {
      "needs_background": "light"
     },
     "output_type": "display_data"
    }
   ],
   "source": [
    "color = sb.color_palette()[0]\n",
    "sb.countplot(data = df_clean, x = 'start_time_hour', color = color);"
   ]
  },
  {
   "cell_type": "markdown",
   "metadata": {
    "slideshow": {
     "slide_type": "subslide"
    }
   },
   "source": [
    "We can see that 5pm have the highest number of bikers followed by 8am."
   ]
  },
  {
   "cell_type": "code",
   "execution_count": 21,
   "metadata": {
    "slideshow": {
     "slide_type": "slide"
    }
   },
   "outputs": [
    {
     "data": {
      "image/png": "[encoded data removed]",
      "text/plain": [
       "<Figure size 432x288 with 1 Axes>"
      ]
     },
     "metadata": {
      "needs_background": "light"
     },
     "output_type": "display_data"
    }
   ],
   "source": [
    "sb.countplot(data = df_clean, x = 'start_time_dayofweek', color = color);"
   ]
  },
  {
   "cell_type": "markdown",
   "metadata": {
    "slideshow": {
     "slide_type": "subslide"
    }
   },
   "source": [
    "Tuesday has the highest number of bikers as seen in the graph followed by Monday."
   ]
  },
  {
   "cell_type": "markdown",
   "metadata": {
    "slideshow": {
     "slide_type": "slide"
    }
   },
   "source": [
    "## Countplot for user type"
   ]
  },
  {
   "cell_type": "code",
   "execution_count": 22,
   "metadata": {
    "slideshow": {
     "slide_type": "slide"
    }
   },
   "outputs": [
    {
     "data": {
      "image/png": "[encoded data removed]",
      "text/plain": [
       "<Figure size 432x288 with 1 Axes>"
      ]
     },
     "metadata": {
      "needs_background": "light"
     },
     "output_type": "display_data"
    }
   ],
   "source": [
    "sb.countplot(data = df_clean, x = 'user_type', color = color);"
   ]
  },
  {
   "cell_type": "markdown",
   "metadata": {
    "slideshow": {
     "slide_type": "subslide"
    }
   },
   "source": [
    "Subscribers user are almost 4 times more than customer users."
   ]
  },
  {
   "cell_type": "markdown",
   "metadata": {
    "slideshow": {
     "slide_type": "slide"
    }
   },
   "source": [
    "**Discuss the distribution(s) of your variable(s) of interest. Were there any unusual points? Did you need to perform any transformations?**\n",
    "\n",
    "On plotting the histogram for duration inminutes, I noticed most were below 50 minutes, but with a few over 50 as well resulting in a long tail . So, I transformed it into a log histogram lot and removed the tail.\n",
    "\n",
    "**Of the features you investigated, were there any unusual distributions? Did you perform any operations on the data to tidy, adjust, or change the form of the data? If so, why did you do this?**\n",
    "\n",
    "Apart from the one mentioned above, I made the data tidy by removing all the missing and null values during the cleaning part of the process."
   ]
  },
  {
   "cell_type": "markdown",
   "metadata": {
    "slideshow": {
     "slide_type": "slide"
    }
   },
   "source": [
    "# Bivariate exploration"
   ]
  },
  {
   "cell_type": "markdown",
   "metadata": {
    "slideshow": {
     "slide_type": "subslide"
    }
   },
   "source": [
    "## 1. Heatmap for all columns"
   ]
  },
  {
   "cell_type": "code",
   "execution_count": 23,
   "metadata": {
    "slideshow": {
     "slide_type": "subslide"
    }
   },
   "outputs": [],
   "source": [
    "#Store all column names in a list\n",
    "numeric_col = ['duration_sec', 'start_time', 'end_time', 'start_station_id', 'start_station_latitude', 'start_station_longitude', 'end_station_id', 'end_station_latitude',\n",
    "'end_station_longitude', 'bike_id', 'duration_min']\n",
    "categoric_col = ['start_time_dayofweek', 'start_time_hour', 'user_type']"
   ]
  },
  {
   "cell_type": "code",
   "execution_count": 24,
   "metadata": {
    "slideshow": {
     "slide_type": "slide"
    }
   },
   "outputs": [
    {
     "data": {
      "image/png": "[encoded data removed]",
      "text/plain": [
       "<Figure size 576x576 with 2 Axes>"
      ]
     },
     "metadata": {
      "needs_background": "light"
     },
     "output_type": "display_data"
    }
   ],
   "source": [
    "plt.figure(figsize = [8, 8])\n",
    "sb.heatmap(df_clean[numeric_col].corr(), annot = True, fmt = '.3f', cmap = 'viridis_r', center = 0);"
   ]
  },
  {
   "cell_type": "markdown",
   "metadata": {
    "slideshow": {
     "slide_type": "subslide"
    }
   },
   "source": [
    "\n",
    "The correlation cofficients indicate there might be correlations between the following pairs of columns: (start_station_id, end_station_id), (start_station_latitude, start_station_longitude), and (end_station_latitude, end_station_longitude). "
   ]
  },
  {
   "cell_type": "markdown",
   "metadata": {
    "slideshow": {
     "slide_type": "slide"
    }
   },
   "source": [
    "## 2.Countplots for start_time_hour,day_of_week and user_type"
   ]
  },
  {
   "cell_type": "code",
   "execution_count": 25,
   "metadata": {
    "slideshow": {
     "slide_type": "slide"
    }
   },
   "outputs": [
    {
     "data": {
      "image/png": "[encoded data removed]",
      "text/plain": [
       "<Figure size 1440x1440 with 3 Axes>"
      ]
     },
     "metadata": {
      "needs_background": "light"
     },
     "output_type": "display_data"
    }
   ],
   "source": [
    "plt.figure(figsize = [20, 20]);\n",
    "\n",
    "\n",
    "plt.subplot(3, 1, 1);\n",
    "sb.countplot(data = df_clean, x = 'start_time_hour', hue = 'start_time_dayofweek', palette = 'BrBG');\n",
    "\n",
    "ax = plt.subplot(3, 1, 2);\n",
    "sb.countplot(data = df_clean, x = 'start_time_hour', hue = 'user_type', palette = 'Set1');\n",
    "ax.legend(loc = 1, ncol = 2); # re-arrange legend to remove overlapping\n",
    "\n",
    "ax = plt.subplot(3, 1, 3);\n",
    "sb.countplot(data = df_clean, x = 'start_time_dayofweek', hue = 'user_type', palette = 'Greens');\n",
    "\n",
    "\n"
   ]
  },
  {
   "cell_type": "markdown",
   "metadata": {
    "slideshow": {
     "slide_type": "subslide"
    }
   },
   "source": [
    "**Observation**\n",
    "\n",
    "\n",
    "On Tuesday at 5:00 PM we see  the highest biker counts across all 7 days and 24 hours.\n",
    "\n",
    "5:00 PM has the most 'Subscriber' as well as 'Customer' bikers compared to other hours.\n",
    "\n",
    "Tuesday has the most 'Subscriber' bikers compared to other days, whereas  Saturday has the most 'Customer' bikers compared to other days.\n"
   ]
  },
  {
   "cell_type": "markdown",
   "metadata": {
    "slideshow": {
     "slide_type": "slide"
    }
   },
   "source": [
    "## 3. Boxplot for trip duration per user type"
   ]
  },
  {
   "cell_type": "code",
   "execution_count": 26,
   "metadata": {
    "slideshow": {
     "slide_type": "slide"
    }
   },
   "outputs": [
    {
     "data": {
      "image/png": "[encoded data removed]",
      "text/plain": [
       "<Figure size 720x360 with 2 Axes>"
      ]
     },
     "metadata": {
      "needs_background": "light"
     },
     "output_type": "display_data"
    }
   ],
   "source": [
    "# Boxplt for duration distribution per user type\n",
    "data = df_clean.query('duration_sec < 3600')\n",
    "g = sb.catplot(data=data, y='duration_sec', col=\"user_type\", kind='box',\n",
    "            color = color)\n",
    "g.set_titles(col_template = '{col_name}')\n",
    "g.set_axis_labels(\"\", \"Trip duration in sec\")\n",
    "g.fig.suptitle('Trip duration  boxplot per user type', y=1.03, fontsize=12 );"
   ]
  },
  {
   "cell_type": "markdown",
   "metadata": {
    "slideshow": {
     "slide_type": "subslide"
    }
   },
   "source": [
    "We can see that trip duration are longer for customers than subscribers."
   ]
  },
  {
   "cell_type": "markdown",
   "metadata": {
    "slideshow": {
     "slide_type": "slide"
    }
   },
   "source": [
    "**Talk about some of the relationships you observed in this part of the investigation. How did the feature(s) of interest vary with other features in the dataset?**\n",
    "\n",
    "Trip duration are longer for customers than subscribers.\n",
    "\n",
    "Bikers like to ride at 5pm in early evening or at 8 am in early morning.\n",
    "\n",
    "Tuesday has the most  bikers compared to other days.\n",
    "\n",
    "\n",
    "**Did you observe any interesting relationships between the other features (not the main feature(s) of interest)?\n",
    "Observations from above plots:**\n",
    "\n",
    "Tuesday, 5:00 PM has the highest biker counts across 7 days, 24 hours.\n",
    "\n",
    "5:00 PM has the most 'Subscriber' and 'Customer' bikers compared to other hours.\n",
    "\n",
    "Tuesday has the most 'Subscriber' bikers compared to other days,whereas Saturday has the most 'Customer' bikers compared to other days.\n"
   ]
  },
  {
   "cell_type": "markdown",
   "metadata": {
    "slideshow": {
     "slide_type": "slide"
    }
   },
   "source": [
    "# Multivariate Exploration"
   ]
  },
  {
   "cell_type": "markdown",
   "metadata": {
    "slideshow": {
     "slide_type": "slide"
    }
   },
   "source": [
    "## 1. Hour vs user type per day"
   ]
  },
  {
   "cell_type": "code",
   "execution_count": 27,
   "metadata": {
    "slideshow": {
     "slide_type": "slide"
    }
   },
   "outputs": [
    {
     "data": {
      "image/png": "[encoded data removed]",
      "text/plain": [
       "<Figure size 809.125x1440 with 7 Axes>"
      ]
     },
     "metadata": {
      "needs_background": "light"
     },
     "output_type": "display_data"
    }
   ],
   "source": [
    "\n",
    "g = sb.catplot(data=df_clean, x='start_time_hour', col=\"start_time_dayofweek\", hue='user_type', kind='count', sharey = False,col_wrap=2)\n",
    "g.set_axis_labels(\"Hour\", \"No of Bike Trips\")\n",
    "g._legend.set_title('Day of week')\n",
    "g.set_titles(\"{col_name}\")\n",
    "g.fig.suptitle('Hourly usage of the bike share system per user type and dayofweek', y=1.03, fontsize=14, fontweight='semibold');"
   ]
  },
  {
   "cell_type": "markdown",
   "metadata": {
    "slideshow": {
     "slide_type": "subslide"
    }
   },
   "source": [
    "We can see that in  general subsribers are more than customers on every day of the week. We can also see that the morning and evening times see the highest count of bikers, with maximum number of bike rides on the weekends."
   ]
  },
  {
   "cell_type": "code",
   "execution_count": null,
   "metadata": {
    "slideshow": {
     "slide_type": "slide"
    }
   },
   "outputs": [],
   "source": [
    "fig = plt.figure(figsize = [8,6]);\n",
    "ax = sb.pointplot(data = df_clean, x = 'start_time_dayofweek', y = 'duration_min', hue = 'user_type',\n",
    "           palette = 'viridis_r', linestyles = '', dodge = 0.3);\n",
    "plt.title('Biking durations for bikers  across dayofweek and user type');\n",
    "plt.ylabel('Mean Duration (min)');\n",
    "plt.yscale('log');\n",
    "plt.yticks([1, 2, 5, 10, 20, 50, 100], [1, 2, 5, 10, 20, 50, 100]);\n",
    "ax.set_yticklabels([],minor = True);\n"
   ]
  },
  {
   "cell_type": "markdown",
   "metadata": {
    "slideshow": {
     "slide_type": "subslide"
    }
   },
   "source": [
    "We see that duration is more customer user type across all days, with maximum being on the weekends."
   ]
  },
  {
   "cell_type": "markdown",
   "metadata": {
    "slideshow": {
     "slide_type": "slide"
    }
   },
   "source": [
    "**Talk about some of the relationships you observed in this part of the investigation. Were there features that strengthened each other in terms of looking at your feature(s) of interest?**\n",
    "\n",
    "The features we studied here are exactly related to each other. We haven't observed features that reinforced one another in looking at features to my interest.\n",
    "\n",
    "**Were there any interesting or surprising interactions between features?**\n",
    "\n",
    "Bike rides on Saturday and Sunday have longer durations compared to bike rides on other weekdays.\n",
    "\n",
    "We see that in general 4:00 AM has least bikers while 5:00 PM has the most bikers.\n",
    "\n",
    "'Customer' bikers bike longer on average compared to 'Subscriber' bikers.\n",
    "\n",
    "There are more bikers on Saturday and on Sundays on average.\n"
   ]
  }
 ],
 "metadata": {
  "celltoolbar": "Slideshow",
  "kernelspec": {
   "display_name": "Python 3",
   "language": "python",
   "name": "python3"
  },
  "language_info": {
   "codemirror_mode": {
    "name": "ipython",
    "version": 3
   },
   "file_extension": ".py",
   "mimetype": "text/x-python",
   "name": "python",
   "nbconvert_exporter": "python",
   "pygments_lexer": "ipython3",
   "version": "3.7.7"
  }
 },
 "nbformat": 4,
 "nbformat_minor": 4
}
